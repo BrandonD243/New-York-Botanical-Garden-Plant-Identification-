{
 "cells": [
  {
   "cell_type": "code",
   "execution_count": 1,
   "id": "1f3da7e7",
   "metadata": {
    "_cell_guid": "559c9425-0437-4816-b7b6-9fae2c6d8708",
    "_uuid": "57b93842-bd0c-4836-ae9d-28d777b4b0cc",
    "collapsed": false,
    "execution": {
     "iopub.execute_input": "2024-03-01T02:49:48.943042Z",
     "iopub.status.busy": "2024-03-01T02:49:48.942554Z",
     "iopub.status.idle": "2024-03-01T02:50:06.098020Z",
     "shell.execute_reply": "2024-03-01T02:50:06.096692Z"
    },
    "jupyter": {
     "outputs_hidden": false
    },
    "papermill": {
     "duration": 17.179229,
     "end_time": "2024-03-01T02:50:06.101089",
     "exception": false,
     "start_time": "2024-03-01T02:49:48.921860",
     "status": "completed"
    },
    "scrolled": true,
    "tags": []
   },
   "outputs": [
    {
     "name": "stderr",
     "output_type": "stream",
     "text": [
      "2024-03-01 02:49:52.307509: E external/local_xla/xla/stream_executor/cuda/cuda_dnn.cc:9261] Unable to register cuDNN factory: Attempting to register factory for plugin cuDNN when one has already been registered\n",
      "2024-03-01 02:49:52.307649: E external/local_xla/xla/stream_executor/cuda/cuda_fft.cc:607] Unable to register cuFFT factory: Attempting to register factory for plugin cuFFT when one has already been registered\n",
      "2024-03-01 02:49:52.478572: E external/local_xla/xla/stream_executor/cuda/cuda_blas.cc:1515] Unable to register cuBLAS factory: Attempting to register factory for plugin cuBLAS when one has already been registered\n"
     ]
    }
   ],
   "source": [
    "# This Python 3 environment comes with many helpful analytics libraries installed\n",
    "# It is defined by the kaggle/python Docker image: https://github.com/kaggle/docker-python\n",
    "# For example, here's several helpful packages to load\n",
    "\n",
    "import numpy as np # linear algebra\n",
    "import pandas as pd # data processing, CSV file I/O (e.g. pd.read_csv)\n",
    "import tensorflow as tf\n",
    "\n",
    "# Input data files are available in the read-only \"../input/\" directory\n",
    "# For example, running this (by clicking run or pressing Shift+Enter) will list all files under the input directory\n",
    "\n",
    "import os\n",
    "# for dirname, _, filenames in os.walk('/kaggle/input'):\n",
    "#     for filename in filenames:\n",
    "#         print(os.path.join(dirname, filename))\n",
    "\n",
    "# You can write up to 20GB to the current directory (/kaggle/working/) that gets preserved as output when you create a version using \"Save & Run All\" \n",
    "# You can also write temporary files to /kaggle/temp/, but they won't be saved outside of the current session"
   ]
  },
  {
   "cell_type": "code",
   "execution_count": 2,
   "id": "f044828f",
   "metadata": {
    "_cell_guid": "5ae7c06c-f6c8-424c-ab02-6089a87771f8",
    "_uuid": "7b0695e1-ff8c-4031-a220-5d163f6db808",
    "collapsed": false,
    "execution": {
     "iopub.execute_input": "2024-03-01T02:50:06.140943Z",
     "iopub.status.busy": "2024-03-01T02:50:06.140179Z",
     "iopub.status.idle": "2024-03-01T02:50:07.504945Z",
     "shell.execute_reply": "2024-03-01T02:50:07.503663Z"
    },
    "jupyter": {
     "outputs_hidden": false
    },
    "papermill": {
     "duration": 1.387827,
     "end_time": "2024-03-01T02:50:07.507993",
     "exception": false,
     "start_time": "2024-03-01T02:50:06.120166",
     "status": "completed"
    },
    "tags": []
   },
   "outputs": [],
   "source": [
    "from sklearn.neural_network import MLPClassifier"
   ]
  },
  {
   "cell_type": "code",
   "execution_count": 3,
   "id": "7021c8b9",
   "metadata": {
    "_cell_guid": "812fbad7-340d-4378-9a37-97180946b612",
    "_uuid": "41ef0320-f0e6-404f-9efa-c261034d5744",
    "collapsed": false,
    "execution": {
     "iopub.execute_input": "2024-03-01T02:50:07.546646Z",
     "iopub.status.busy": "2024-03-01T02:50:07.545712Z",
     "iopub.status.idle": "2024-03-01T02:50:07.765765Z",
     "shell.execute_reply": "2024-03-01T02:50:07.764377Z"
    },
    "jupyter": {
     "outputs_hidden": false
    },
    "papermill": {
     "duration": 0.24272,
     "end_time": "2024-03-01T02:50:07.768560",
     "exception": false,
     "start_time": "2024-03-01T02:50:07.525840",
     "status": "completed"
    },
    "tags": []
   },
   "outputs": [
    {
     "data": {
      "text/html": [
       "<div>\n",
       "<style scoped>\n",
       "    .dataframe tbody tr th:only-of-type {\n",
       "        vertical-align: middle;\n",
       "    }\n",
       "\n",
       "    .dataframe tbody tr th {\n",
       "        vertical-align: top;\n",
       "    }\n",
       "\n",
       "    .dataframe thead th {\n",
       "        text-align: right;\n",
       "    }\n",
       "</style>\n",
       "<table border=\"1\" class=\"dataframe\">\n",
       "  <thead>\n",
       "    <tr style=\"text-align: right;\">\n",
       "      <th></th>\n",
       "      <th>uniqueID</th>\n",
       "      <th>classLabel</th>\n",
       "      <th>classID</th>\n",
       "      <th>source</th>\n",
       "      <th>imageFile</th>\n",
       "    </tr>\n",
       "  </thead>\n",
       "  <tbody>\n",
       "    <tr>\n",
       "      <th>0</th>\n",
       "      <td>2</td>\n",
       "      <td>occluded-specimens</td>\n",
       "      <td>8</td>\n",
       "      <td>L</td>\n",
       "      <td>a1a8b48e8cb142b3.jpg</td>\n",
       "    </tr>\n",
       "    <tr>\n",
       "      <th>1</th>\n",
       "      <td>3</td>\n",
       "      <td>microscope-slides</td>\n",
       "      <td>6</td>\n",
       "      <td>L</td>\n",
       "      <td>79599db2ac9092b6.jpg</td>\n",
       "    </tr>\n",
       "    <tr>\n",
       "      <th>2</th>\n",
       "      <td>4</td>\n",
       "      <td>illustrations-color</td>\n",
       "      <td>2</td>\n",
       "      <td>BHL</td>\n",
       "      <td>c449696f2f0d0d92.jpg</td>\n",
       "    </tr>\n",
       "    <tr>\n",
       "      <th>3</th>\n",
       "      <td>5</td>\n",
       "      <td>illustrations-color</td>\n",
       "      <td>2</td>\n",
       "      <td>P</td>\n",
       "      <td>80a8f4a393b4e08c.jpg</td>\n",
       "    </tr>\n",
       "    <tr>\n",
       "      <th>4</th>\n",
       "      <td>6</td>\n",
       "      <td>animal-specimens</td>\n",
       "      <td>0</td>\n",
       "      <td>AK</td>\n",
       "      <td>041a1c6e73313638.jpg</td>\n",
       "    </tr>\n",
       "  </tbody>\n",
       "</table>\n",
       "</div>"
      ],
      "text/plain": [
       "   uniqueID           classLabel  classID source             imageFile\n",
       "0         2   occluded-specimens        8      L  a1a8b48e8cb142b3.jpg\n",
       "1         3    microscope-slides        6      L  79599db2ac9092b6.jpg\n",
       "2         4  illustrations-color        2    BHL  c449696f2f0d0d92.jpg\n",
       "3         5  illustrations-color        2      P  80a8f4a393b4e08c.jpg\n",
       "4         6     animal-specimens        0     AK  041a1c6e73313638.jpg"
      ]
     },
     "execution_count": 3,
     "metadata": {},
     "output_type": "execute_result"
    }
   ],
   "source": [
    "df = pd.read_csv('/kaggle/input/bttai-nybg-2024/BTTAIxNYBG-train.csv')\n",
    "df.head()"
   ]
  },
  {
   "cell_type": "code",
   "execution_count": 4,
   "id": "e2320fd0",
   "metadata": {
    "_cell_guid": "96b16c33-4379-4a50-819d-9282fe6499be",
    "_uuid": "cc776c66-4f71-412a-bfcd-0f51e4413216",
    "collapsed": false,
    "execution": {
     "iopub.execute_input": "2024-03-01T02:50:07.808472Z",
     "iopub.status.busy": "2024-03-01T02:50:07.807530Z",
     "iopub.status.idle": "2024-03-01T02:50:07.834443Z",
     "shell.execute_reply": "2024-03-01T02:50:07.833226Z"
    },
    "jupyter": {
     "outputs_hidden": false
    },
    "papermill": {
     "duration": 0.048936,
     "end_time": "2024-03-01T02:50:07.836939",
     "exception": false,
     "start_time": "2024-03-01T02:50:07.788003",
     "status": "completed"
    },
    "tags": []
   },
   "outputs": [
    {
     "data": {
      "text/plain": [
       "classLabel\n",
       "live-plants                       8200\n",
       "illustrations-color               8196\n",
       "illustrations-gray                8196\n",
       "biocultural-specimens             8195\n",
       "micrographs-transmission-light    8195\n",
       "occluded-specimens                8194\n",
       "animal-specimens                  8194\n",
       "mixed-pressed-specimens           8193\n",
       "microscope-slides                 8192\n",
       "ordinary-pressed-specimens        8191\n",
       "Name: count, dtype: int64"
      ]
     },
     "execution_count": 4,
     "metadata": {},
     "output_type": "execute_result"
    }
   ],
   "source": [
    "df['classLabel'].value_counts()"
   ]
  },
  {
   "cell_type": "code",
   "execution_count": 5,
   "id": "4c68afa3",
   "metadata": {
    "_cell_guid": "bce486e5-f2d6-4024-af98-00c1dfa2a154",
    "_uuid": "a2906fb9-9b50-44fa-a8a4-48074821eaa9",
    "collapsed": false,
    "execution": {
     "iopub.execute_input": "2024-03-01T02:50:07.876194Z",
     "iopub.status.busy": "2024-03-01T02:50:07.875405Z",
     "iopub.status.idle": "2024-03-01T02:50:07.885987Z",
     "shell.execute_reply": "2024-03-01T02:50:07.885044Z"
    },
    "jupyter": {
     "outputs_hidden": false
    },
    "papermill": {
     "duration": 0.032773,
     "end_time": "2024-03-01T02:50:07.888351",
     "exception": false,
     "start_time": "2024-03-01T02:50:07.855578",
     "status": "completed"
    },
    "tags": []
   },
   "outputs": [
    {
     "data": {
      "text/plain": [
       "classID\n",
       "4    8200\n",
       "2    8196\n",
       "3    8196\n",
       "1    8195\n",
       "5    8195\n",
       "8    8194\n",
       "0    8194\n",
       "7    8193\n",
       "6    8192\n",
       "9    8191\n",
       "Name: count, dtype: int64"
      ]
     },
     "execution_count": 5,
     "metadata": {},
     "output_type": "execute_result"
    }
   ],
   "source": [
    "df['classID'].value_counts()"
   ]
  },
  {
   "cell_type": "code",
   "execution_count": 6,
   "id": "0a583982",
   "metadata": {
    "_cell_guid": "e9f7bffb-e836-48f1-80af-f413b01ccf56",
    "_uuid": "3ff7396f-872f-4b3a-ab76-a01879aef5c3",
    "collapsed": false,
    "execution": {
     "iopub.execute_input": "2024-03-01T02:50:07.928172Z",
     "iopub.status.busy": "2024-03-01T02:50:07.927317Z",
     "iopub.status.idle": "2024-03-01T02:50:07.948699Z",
     "shell.execute_reply": "2024-03-01T02:50:07.947385Z"
    },
    "jupyter": {
     "outputs_hidden": false
    },
    "papermill": {
     "duration": 0.04473,
     "end_time": "2024-03-01T02:50:07.951614",
     "exception": false,
     "start_time": "2024-03-01T02:50:07.906884",
     "status": "completed"
    },
    "tags": []
   },
   "outputs": [
    {
     "data": {
      "text/plain": [
       "source\n",
       "BHL      12691\n",
       "L         8812\n",
       "Tw        5274\n",
       "K         5261\n",
       "NY        5183\n",
       "P         4755\n",
       "BR        3789\n",
       "Met       3438\n",
       "F         3365\n",
       "US        3064\n",
       "E         2977\n",
       "AK        2307\n",
       "MICH      2163\n",
       "CAS       1825\n",
       "MO        1725\n",
       "GH        1573\n",
       "C         1564\n",
       "YU        1380\n",
       "O         1294\n",
       "RSA       1037\n",
       "KY         655\n",
       "UA         655\n",
       "FMNH       654\n",
       "TU         647\n",
       "MZH        612\n",
       "MPU        603\n",
       "NMR        600\n",
       "MCZ        565\n",
       "YPM        565\n",
       "ASU        538\n",
       "MA         507\n",
       "CHNDM      476\n",
       "UMMZ       452\n",
       "SDNHM      337\n",
       "NHMD       282\n",
       "TTU        260\n",
       "UHIM        61\n",
       "Name: count, dtype: int64"
      ]
     },
     "execution_count": 6,
     "metadata": {},
     "output_type": "execute_result"
    }
   ],
   "source": [
    "df['source'].value_counts()"
   ]
  },
  {
   "cell_type": "code",
   "execution_count": 7,
   "id": "c8fddead",
   "metadata": {
    "_cell_guid": "fd49b797-3ee9-4c97-b134-f9cb62812fd9",
    "_uuid": "6b883d05-0714-4bdd-8dfb-d712b7e7c0e6",
    "collapsed": false,
    "execution": {
     "iopub.execute_input": "2024-03-01T02:50:07.996674Z",
     "iopub.status.busy": "2024-03-01T02:50:07.996218Z",
     "iopub.status.idle": "2024-03-01T02:50:08.004361Z",
     "shell.execute_reply": "2024-03-01T02:50:08.003062Z"
    },
    "jupyter": {
     "outputs_hidden": false
    },
    "papermill": {
     "duration": 0.0367,
     "end_time": "2024-03-01T02:50:08.007701",
     "exception": false,
     "start_time": "2024-03-01T02:50:07.971001",
     "status": "completed"
    },
    "tags": []
   },
   "outputs": [
    {
     "data": {
      "text/plain": [
       "(81946, 5)"
      ]
     },
     "execution_count": 7,
     "metadata": {},
     "output_type": "execute_result"
    }
   ],
   "source": [
    "df.shape"
   ]
  },
  {
   "cell_type": "code",
   "execution_count": 8,
   "id": "18733ee6",
   "metadata": {
    "_cell_guid": "fa5fd667-94fd-4247-8905-d1c957087ae7",
    "_uuid": "78d89e11-3806-49c9-a3ef-e66163996ef1",
    "collapsed": false,
    "execution": {
     "iopub.execute_input": "2024-03-01T02:50:08.047293Z",
     "iopub.status.busy": "2024-03-01T02:50:08.046846Z",
     "iopub.status.idle": "2024-03-01T02:50:08.081814Z",
     "shell.execute_reply": "2024-03-01T02:50:08.080645Z"
    },
    "jupyter": {
     "outputs_hidden": false
    },
    "papermill": {
     "duration": 0.057648,
     "end_time": "2024-03-01T02:50:08.084258",
     "exception": false,
     "start_time": "2024-03-01T02:50:08.026610",
     "status": "completed"
    },
    "tags": []
   },
   "outputs": [
    {
     "data": {
      "text/plain": [
       "False"
      ]
     },
     "execution_count": 8,
     "metadata": {},
     "output_type": "execute_result"
    }
   ],
   "source": [
    "np.any(pd.isna(df))"
   ]
  },
  {
   "cell_type": "markdown",
   "id": "baabc49b",
   "metadata": {
    "_cell_guid": "b47a3809-e26d-4179-8a26-f2101ea8c024",
    "_uuid": "ac234fca-85e7-4e17-a4af-a6003afd0272",
    "papermill": {
     "duration": 0.019513,
     "end_time": "2024-03-01T02:50:08.122734",
     "exception": false,
     "start_time": "2024-03-01T02:50:08.103221",
     "status": "completed"
    },
    "tags": []
   },
   "source": [
    "## Cleaning the Data"
   ]
  },
  {
   "cell_type": "code",
   "execution_count": 9,
   "id": "cdd8ebdd",
   "metadata": {
    "_cell_guid": "d7b13df2-b274-43dd-979f-afda30cc52a2",
    "_uuid": "f82fc865-d043-40fa-ae32-f0e51932bf3b",
    "collapsed": false,
    "execution": {
     "iopub.execute_input": "2024-03-01T02:50:08.164007Z",
     "iopub.status.busy": "2024-03-01T02:50:08.163520Z",
     "iopub.status.idle": "2024-03-01T02:50:08.187388Z",
     "shell.execute_reply": "2024-03-01T02:50:08.186097Z"
    },
    "jupyter": {
     "outputs_hidden": false
    },
    "papermill": {
     "duration": 0.047416,
     "end_time": "2024-03-01T02:50:08.189816",
     "exception": false,
     "start_time": "2024-03-01T02:50:08.142400",
     "status": "completed"
    },
    "tags": []
   },
   "outputs": [
    {
     "data": {
      "text/html": [
       "<div>\n",
       "<style scoped>\n",
       "    .dataframe tbody tr th:only-of-type {\n",
       "        vertical-align: middle;\n",
       "    }\n",
       "\n",
       "    .dataframe tbody tr th {\n",
       "        vertical-align: top;\n",
       "    }\n",
       "\n",
       "    .dataframe thead th {\n",
       "        text-align: right;\n",
       "    }\n",
       "</style>\n",
       "<table border=\"1\" class=\"dataframe\">\n",
       "  <thead>\n",
       "    <tr style=\"text-align: right;\">\n",
       "      <th></th>\n",
       "      <th>uniqueID</th>\n",
       "      <th>classLabel</th>\n",
       "      <th>source</th>\n",
       "      <th>imageFile</th>\n",
       "    </tr>\n",
       "  </thead>\n",
       "  <tbody>\n",
       "    <tr>\n",
       "      <th>0</th>\n",
       "      <td>2</td>\n",
       "      <td>occluded-specimens</td>\n",
       "      <td>L</td>\n",
       "      <td>a1a8b48e8cb142b3.jpg</td>\n",
       "    </tr>\n",
       "    <tr>\n",
       "      <th>1</th>\n",
       "      <td>3</td>\n",
       "      <td>microscope-slides</td>\n",
       "      <td>L</td>\n",
       "      <td>79599db2ac9092b6.jpg</td>\n",
       "    </tr>\n",
       "    <tr>\n",
       "      <th>2</th>\n",
       "      <td>4</td>\n",
       "      <td>illustrations-color</td>\n",
       "      <td>BHL</td>\n",
       "      <td>c449696f2f0d0d92.jpg</td>\n",
       "    </tr>\n",
       "    <tr>\n",
       "      <th>3</th>\n",
       "      <td>5</td>\n",
       "      <td>illustrations-color</td>\n",
       "      <td>P</td>\n",
       "      <td>80a8f4a393b4e08c.jpg</td>\n",
       "    </tr>\n",
       "    <tr>\n",
       "      <th>4</th>\n",
       "      <td>6</td>\n",
       "      <td>animal-specimens</td>\n",
       "      <td>AK</td>\n",
       "      <td>041a1c6e73313638.jpg</td>\n",
       "    </tr>\n",
       "  </tbody>\n",
       "</table>\n",
       "</div>"
      ],
      "text/plain": [
       "   uniqueID           classLabel source             imageFile\n",
       "0         2   occluded-specimens      L  a1a8b48e8cb142b3.jpg\n",
       "1         3    microscope-slides      L  79599db2ac9092b6.jpg\n",
       "2         4  illustrations-color    BHL  c449696f2f0d0d92.jpg\n",
       "3         5  illustrations-color      P  80a8f4a393b4e08c.jpg\n",
       "4         6     animal-specimens     AK  041a1c6e73313638.jpg"
      ]
     },
     "execution_count": 9,
     "metadata": {},
     "output_type": "execute_result"
    }
   ],
   "source": [
    "X_train = df.drop(columns=['classID'])\n",
    "y_train = df['classID']\n",
    "X_train.head()"
   ]
  },
  {
   "cell_type": "code",
   "execution_count": 10,
   "id": "37b03808",
   "metadata": {
    "_cell_guid": "2ccb3e83-201b-4589-9464-073e0637919d",
    "_uuid": "3f366dc1-1b6f-4c17-8361-9784bcdaacd3",
    "collapsed": false,
    "execution": {
     "iopub.execute_input": "2024-03-01T02:50:08.230387Z",
     "iopub.status.busy": "2024-03-01T02:50:08.229624Z",
     "iopub.status.idle": "2024-03-01T02:50:08.238084Z",
     "shell.execute_reply": "2024-03-01T02:50:08.236871Z"
    },
    "jupyter": {
     "outputs_hidden": false
    },
    "papermill": {
     "duration": 0.031969,
     "end_time": "2024-03-01T02:50:08.240972",
     "exception": false,
     "start_time": "2024-03-01T02:50:08.209003",
     "status": "completed"
    },
    "tags": []
   },
   "outputs": [
    {
     "data": {
      "text/plain": [
       "0    8\n",
       "1    6\n",
       "2    2\n",
       "3    2\n",
       "4    0\n",
       "Name: classID, dtype: int64"
      ]
     },
     "execution_count": 10,
     "metadata": {},
     "output_type": "execute_result"
    }
   ],
   "source": [
    "y_train.head()"
   ]
  },
  {
   "cell_type": "code",
   "execution_count": 11,
   "id": "454cf6a0",
   "metadata": {
    "_cell_guid": "08098da0-6213-4b24-b5c8-32c600269e73",
    "_uuid": "3b284875-d90c-4bce-8070-e6ca8338312d",
    "collapsed": false,
    "execution": {
     "iopub.execute_input": "2024-03-01T02:50:08.282734Z",
     "iopub.status.busy": "2024-03-01T02:50:08.282291Z",
     "iopub.status.idle": "2024-03-01T02:50:08.289110Z",
     "shell.execute_reply": "2024-03-01T02:50:08.287934Z"
    },
    "jupyter": {
     "outputs_hidden": false
    },
    "papermill": {
     "duration": 0.031002,
     "end_time": "2024-03-01T02:50:08.291821",
     "exception": false,
     "start_time": "2024-03-01T02:50:08.260819",
     "status": "completed"
    },
    "tags": []
   },
   "outputs": [
    {
     "data": {
      "text/plain": [
       "Index(['uniqueID', 'classLabel', 'classID', 'source', 'imageFile'], dtype='object')"
      ]
     },
     "execution_count": 11,
     "metadata": {},
     "output_type": "execute_result"
    }
   ],
   "source": [
    "df.columns"
   ]
  },
  {
   "cell_type": "code",
   "execution_count": 12,
   "id": "ed423b83",
   "metadata": {
    "_cell_guid": "aa0c1032-4c47-4623-8471-e96451fea616",
    "_uuid": "3653f808-04ce-4659-ba5b-3e203109928d",
    "collapsed": false,
    "execution": {
     "iopub.execute_input": "2024-03-01T02:50:08.333893Z",
     "iopub.status.busy": "2024-03-01T02:50:08.333477Z",
     "iopub.status.idle": "2024-03-01T02:50:08.340610Z",
     "shell.execute_reply": "2024-03-01T02:50:08.339522Z"
    },
    "jupyter": {
     "outputs_hidden": false
    },
    "papermill": {
     "duration": 0.031645,
     "end_time": "2024-03-01T02:50:08.343421",
     "exception": false,
     "start_time": "2024-03-01T02:50:08.311776",
     "status": "completed"
    },
    "tags": []
   },
   "outputs": [
    {
     "data": {
      "text/plain": [
       "Index(['uniqueID', 'classLabel', 'source', 'imageFile'], dtype='object')"
      ]
     },
     "execution_count": 12,
     "metadata": {},
     "output_type": "execute_result"
    }
   ],
   "source": [
    "X_cols = X_train.columns\n",
    "X_cols"
   ]
  },
  {
   "cell_type": "code",
   "execution_count": 13,
   "id": "4fa233f6",
   "metadata": {
    "_cell_guid": "8bdba415-5a7c-4200-82c7-410f621993cc",
    "_uuid": "06e0c082-0426-4aff-948b-b5716b9ccc28",
    "collapsed": false,
    "execution": {
     "iopub.execute_input": "2024-03-01T02:50:08.385230Z",
     "iopub.status.busy": "2024-03-01T02:50:08.384816Z",
     "iopub.status.idle": "2024-03-01T02:50:08.790374Z",
     "shell.execute_reply": "2024-03-01T02:50:08.789104Z"
    },
    "jupyter": {
     "outputs_hidden": false
    },
    "papermill": {
     "duration": 0.429595,
     "end_time": "2024-03-01T02:50:08.793146",
     "exception": false,
     "start_time": "2024-03-01T02:50:08.363551",
     "status": "completed"
    },
    "tags": []
   },
   "outputs": [],
   "source": [
    "import cv2\n",
    "from tensorflow.keras.layers import Input, Conv2D, MaxPooling2D, Flatten, Dense, concatenate\n",
    "from tensorflow.keras.models import Model\n",
    "\n",
    "# Load your data table containing image paths and additional information\n",
    "# data_table = pd.read_csv('/kaggle/input/bttai-nybg-2024/BTTAIxNYBG-train/BTTAIxNYBG-train')\n",
    "path = '/kaggle/input/bttai-nybg-2024/BTTAIxNYBG-train/BTTAIxNYBG-train/'\n",
    "\n",
    "# Function to load and preprocess images\n",
    "def load_and_preprocess_images(df):\n",
    "    images = []\n",
    "    all_img_info = []\n",
    "    labels = []\n",
    "    for index, row in df.iterrows():\n",
    "        img_path = path + row['imageFile']  # Replace 'image_path_column' with the column name containing image paths\n",
    "        label = row['classID']  # Replace 'label_column' with the column name containing labels\n",
    "        curr_img_info = row[X_cols].values  # Replace 'additional_column1', 'additional_column2', etc. with the columns containing additional information\n",
    "        curr_img = cv2.imread(img_path)\n",
    "        curr_img = cv2.resize(curr_img, (32, 32))  # Resize the image if necessary\n",
    "        curr_img = curr_img / 255.0  # Normalize the pixel values\n",
    "        images.append(curr_img)\n",
    "        all_img_info.append(curr_img_info)\n",
    "        labels.append(label)\n",
    "    return np.array(images), np.array(all_img_info), np.array(labels)"
   ]
  },
  {
   "cell_type": "code",
   "execution_count": 14,
   "id": "cb2209ef",
   "metadata": {
    "_cell_guid": "add60ada-30b0-4786-91c8-508df8c2f1a8",
    "_uuid": "d0856ecb-ef75-4a5e-9914-19b470fb862b",
    "collapsed": false,
    "execution": {
     "iopub.execute_input": "2024-03-01T02:50:08.834480Z",
     "iopub.status.busy": "2024-03-01T02:50:08.833945Z",
     "iopub.status.idle": "2024-03-01T03:22:28.471857Z",
     "shell.execute_reply": "2024-03-01T03:22:28.468976Z"
    },
    "jupyter": {
     "outputs_hidden": false
    },
    "papermill": {
     "duration": 1939.663105,
     "end_time": "2024-03-01T03:22:28.476034",
     "exception": false,
     "start_time": "2024-03-01T02:50:08.812929",
     "status": "completed"
    },
    "tags": []
   },
   "outputs": [],
   "source": [
    "# Load and preprocess images and itionalitional information\n",
    "images, all_img_info, labels = load_and_preprocess_images(df)"
   ]
  },
  {
   "cell_type": "code",
   "execution_count": 15,
   "id": "1b06dfa8",
   "metadata": {
    "_cell_guid": "5a970672-b7c5-4dd7-b133-b34ce09ff6d0",
    "_uuid": "783efdaf-cfa7-4aad-b512-67465e5f1028",
    "collapsed": false,
    "execution": {
     "iopub.execute_input": "2024-03-01T03:22:28.526124Z",
     "iopub.status.busy": "2024-03-01T03:22:28.525606Z",
     "iopub.status.idle": "2024-03-01T03:22:28.536397Z",
     "shell.execute_reply": "2024-03-01T03:22:28.535226Z"
    },
    "jupyter": {
     "outputs_hidden": false
    },
    "papermill": {
     "duration": 0.035527,
     "end_time": "2024-03-01T03:22:28.538923",
     "exception": false,
     "start_time": "2024-03-01T03:22:28.503396",
     "status": "completed"
    },
    "tags": []
   },
   "outputs": [
    {
     "data": {
      "text/plain": [
       "81946"
      ]
     },
     "execution_count": 15,
     "metadata": {},
     "output_type": "execute_result"
    }
   ],
   "source": [
    "len(images)"
   ]
  },
  {
   "cell_type": "code",
   "execution_count": 16,
   "id": "e8ac5ee6",
   "metadata": {
    "_cell_guid": "153b3efb-8ee4-4ba6-bb43-e736d2f3cee0",
    "_uuid": "a0ac84bf-84cb-4047-88b7-b64835d9bdcb",
    "collapsed": false,
    "execution": {
     "iopub.execute_input": "2024-03-01T03:22:28.581331Z",
     "iopub.status.busy": "2024-03-01T03:22:28.580878Z",
     "iopub.status.idle": "2024-03-01T03:22:28.588507Z",
     "shell.execute_reply": "2024-03-01T03:22:28.587401Z"
    },
    "jupyter": {
     "outputs_hidden": false
    },
    "papermill": {
     "duration": 0.031494,
     "end_time": "2024-03-01T03:22:28.590907",
     "exception": false,
     "start_time": "2024-03-01T03:22:28.559413",
     "status": "completed"
    },
    "tags": []
   },
   "outputs": [
    {
     "data": {
      "text/plain": [
       "81946"
      ]
     },
     "execution_count": 16,
     "metadata": {},
     "output_type": "execute_result"
    }
   ],
   "source": [
    "len(all_img_info)"
   ]
  },
  {
   "cell_type": "code",
   "execution_count": 17,
   "id": "0275a6f6",
   "metadata": {
    "_cell_guid": "c3eb16fb-bc57-4b5f-ba46-0a44b1bcbf85",
    "_uuid": "58800314-8323-42f9-9884-5d31da112381",
    "collapsed": false,
    "execution": {
     "iopub.execute_input": "2024-03-01T03:22:28.633054Z",
     "iopub.status.busy": "2024-03-01T03:22:28.632629Z",
     "iopub.status.idle": "2024-03-01T03:22:28.640293Z",
     "shell.execute_reply": "2024-03-01T03:22:28.639001Z"
    },
    "jupyter": {
     "outputs_hidden": false
    },
    "papermill": {
     "duration": 0.031811,
     "end_time": "2024-03-01T03:22:28.642832",
     "exception": false,
     "start_time": "2024-03-01T03:22:28.611021",
     "status": "completed"
    },
    "tags": []
   },
   "outputs": [
    {
     "data": {
      "text/plain": [
       "81946"
      ]
     },
     "execution_count": 17,
     "metadata": {},
     "output_type": "execute_result"
    }
   ],
   "source": [
    "len(labels)"
   ]
  },
  {
   "cell_type": "code",
   "execution_count": 18,
   "id": "33829425",
   "metadata": {
    "_cell_guid": "9c265d16-1640-49d0-b459-f541d4d5f9cf",
    "_uuid": "196c307d-524a-49c3-ad8d-a8bb1e1c907b",
    "collapsed": false,
    "execution": {
     "iopub.execute_input": "2024-03-01T03:22:28.686295Z",
     "iopub.status.busy": "2024-03-01T03:22:28.685881Z",
     "iopub.status.idle": "2024-03-01T03:22:28.756995Z",
     "shell.execute_reply": "2024-03-01T03:22:28.755930Z"
    },
    "jupyter": {
     "outputs_hidden": false
    },
    "papermill": {
     "duration": 0.09541,
     "end_time": "2024-03-01T03:22:28.759643",
     "exception": false,
     "start_time": "2024-03-01T03:22:28.664233",
     "status": "completed"
    },
    "tags": []
   },
   "outputs": [],
   "source": [
    "# Define the combined input\n",
    "image_input = Input(shape=(32, 32, 3))\n",
    "additional_input = Input(shape=(len(X_cols)))  # Replace num_additional_columns with the number of additional columns"
   ]
  },
  {
   "cell_type": "markdown",
   "id": "f689317f",
   "metadata": {
    "_cell_guid": "d9dc6872-479d-41a7-9070-85b605b07d6e",
    "_uuid": "c813c465-f04f-4785-9bdd-c7fbf951989c",
    "papermill": {
     "duration": 0.021009,
     "end_time": "2024-03-01T03:22:28.801425",
     "exception": false,
     "start_time": "2024-03-01T03:22:28.780416",
     "status": "completed"
    },
    "tags": []
   },
   "source": [
    "## Creating the model"
   ]
  },
  {
   "cell_type": "code",
   "execution_count": 19,
   "id": "747cdfe3",
   "metadata": {
    "_cell_guid": "4320d527-5b5e-4693-874d-645f5c7ce0fd",
    "_uuid": "66254fba-23b6-4f20-83a2-9bcc6678d53a",
    "collapsed": false,
    "execution": {
     "iopub.execute_input": "2024-03-01T03:22:28.843534Z",
     "iopub.status.busy": "2024-03-01T03:22:28.843084Z",
     "iopub.status.idle": "2024-03-01T03:29:55.020109Z",
     "shell.execute_reply": "2024-03-01T03:29:55.018845Z"
    },
    "jupyter": {
     "outputs_hidden": false
    },
    "papermill": {
     "duration": 446.201867,
     "end_time": "2024-03-01T03:29:55.023292",
     "exception": false,
     "start_time": "2024-03-01T03:22:28.821425",
     "status": "completed"
    },
    "tags": []
   },
   "outputs": [
    {
     "name": "stdout",
     "output_type": "stream",
     "text": [
      "Epoch 1/6\n",
      "2049/2049 [==============================] - 71s 34ms/step - loss: 0.9007 - accuracy: 0.6809 - val_loss: 0.5697 - val_accuracy: 0.8024\n",
      "Epoch 2/6\n",
      "2049/2049 [==============================] - 68s 33ms/step - loss: 0.5283 - accuracy: 0.8139 - val_loss: 0.4694 - val_accuracy: 0.8350\n",
      "Epoch 3/6\n",
      "2049/2049 [==============================] - 67s 33ms/step - loss: 0.4443 - accuracy: 0.8427 - val_loss: 0.5092 - val_accuracy: 0.8214\n",
      "Epoch 4/6\n",
      "2049/2049 [==============================] - 67s 33ms/step - loss: 0.3841 - accuracy: 0.8645 - val_loss: 0.4665 - val_accuracy: 0.8412\n",
      "Epoch 5/6\n",
      "2049/2049 [==============================] - 68s 33ms/step - loss: 0.3370 - accuracy: 0.8798 - val_loss: 0.4175 - val_accuracy: 0.8525\n",
      "Epoch 6/6\n",
      "2049/2049 [==============================] - 67s 33ms/step - loss: 0.3055 - accuracy: 0.8906 - val_loss: 0.3686 - val_accuracy: 0.8757\n"
     ]
    }
   ],
   "source": [
    "from tensorflow.keras.metrics import AUC\n",
    "\n",
    "# CNN for image processing\n",
    "x = Conv2D(32, (3, 3), activation='relu')(image_input)\n",
    "x = MaxPooling2D((2, 2))(x)\n",
    "x = Conv2D(64, (3, 3), activation='relu')(x)\n",
    "x = MaxPooling2D((2, 2))(x)\n",
    "x = Conv2D(64, (3, 3), activation='relu')(x)\n",
    "x = Flatten()(x)\n",
    "\n",
    "# Dense layers\n",
    "x = Dense(1024, activation='relu')(x)\n",
    "\n",
    "# Output layer\n",
    "output = Dense(10, activation='softmax')(x)\n",
    "labels = labels.astype('int32')\n",
    "\n",
    "# Define the model\n",
    "model = Model(inputs=image_input, outputs=output)\n",
    "\n",
    "# Compile the model\n",
    "model.compile(optimizer='adam',\n",
    "              loss='sparse_categorical_crossentropy',\n",
    "              metrics=['accuracy'])\n",
    "\n",
    "# Train the model\n",
    "history = model.fit(images, labels, batch_size=32, epochs=6, validation_split=0.2)\n"
   ]
  },
  {
   "cell_type": "markdown",
   "id": "854773d0",
   "metadata": {
    "papermill": {
     "duration": 0.607906,
     "end_time": "2024-03-01T03:29:56.234562",
     "exception": false,
     "start_time": "2024-03-01T03:29:55.626656",
     "status": "completed"
    },
    "tags": []
   },
   "source": [
    "## Making Predictions Using the Model"
   ]
  },
  {
   "cell_type": "code",
   "execution_count": 20,
   "id": "e4e550b0",
   "metadata": {
    "execution": {
     "iopub.execute_input": "2024-03-01T03:29:57.525957Z",
     "iopub.status.busy": "2024-03-01T03:29:57.525498Z",
     "iopub.status.idle": "2024-03-01T03:29:57.534139Z",
     "shell.execute_reply": "2024-03-01T03:29:57.532924Z"
    },
    "papermill": {
     "duration": 0.617939,
     "end_time": "2024-03-01T03:29:57.536419",
     "exception": false,
     "start_time": "2024-03-01T03:29:56.918480",
     "status": "completed"
    },
    "tags": []
   },
   "outputs": [],
   "source": [
    "test_path = '/kaggle/input/bttai-nybg-2024/BTTAIxNYBG-test/BTTAIxNYBG-test/'\n",
    "def test_load_and_preprocess_images(df):\n",
    "    images = []\n",
    "    labels = []\n",
    "    for index, row in df.iterrows():\n",
    "        img_path = test_path + row['imageFile']  # Replace 'image_path_column' with the column name containing image paths\n",
    "        label = row['uniqueID']  # Replace 'label_column' with the column name containing labels\n",
    "        curr_img = cv2.imread(img_path)\n",
    "        curr_img = cv2.resize(curr_img, (32, 32))  # Resize the image if necessary\n",
    "        curr_img = curr_img / 255.0  # Normalize the pixel values\n",
    "        images.append(curr_img)\n",
    "        labels.append(label)\n",
    "    return np.array(images), np.array(labels)"
   ]
  },
  {
   "cell_type": "code",
   "execution_count": 21,
   "id": "dd8b0aa6",
   "metadata": {
    "execution": {
     "iopub.execute_input": "2024-03-01T03:29:58.783163Z",
     "iopub.status.busy": "2024-03-01T03:29:58.780811Z",
     "iopub.status.idle": "2024-03-01T03:42:29.648623Z",
     "shell.execute_reply": "2024-03-01T03:42:29.646876Z"
    },
    "papermill": {
     "duration": 751.508889,
     "end_time": "2024-03-01T03:42:29.651933",
     "exception": false,
     "start_time": "2024-03-01T03:29:58.143044",
     "status": "completed"
    },
    "tags": []
   },
   "outputs": [
    {
     "name": "stdout",
     "output_type": "stream",
     "text": [
      "960/960 [==============================] - 9s 9ms/step\n"
     ]
    }
   ],
   "source": [
    "# Preprocess test images\n",
    "test_df = pd.read_csv('/kaggle/input/bttai-nybg-2024/BTTAIxNYBG-test.csv')\n",
    "test_images, test_labels = test_load_and_preprocess_images(test_df)\n",
    "\n",
    "# Make predictions on the test set\n",
    "predictions = model.predict(test_images)\n",
    "\n",
    "# Assuming predictions are probabilities, you might want to convert them to class labels\n",
    "predicted_labels = np.argmax(predictions, axis=1)"
   ]
  },
  {
   "cell_type": "code",
   "execution_count": 22,
   "id": "93ba1770",
   "metadata": {
    "execution": {
     "iopub.execute_input": "2024-03-01T03:42:30.901401Z",
     "iopub.status.busy": "2024-03-01T03:42:30.900843Z",
     "iopub.status.idle": "2024-03-01T03:42:30.907757Z",
     "shell.execute_reply": "2024-03-01T03:42:30.906849Z"
    },
    "papermill": {
     "duration": 0.629038,
     "end_time": "2024-03-01T03:42:30.909907",
     "exception": false,
     "start_time": "2024-03-01T03:42:30.280869",
     "status": "completed"
    },
    "tags": []
   },
   "outputs": [
    {
     "name": "stdout",
     "output_type": "stream",
     "text": [
      "[1 7 4 ... 0 1 2]\n",
      "[     1      9     10 ... 122871 122878 122880]\n"
     ]
    }
   ],
   "source": [
    "print(predicted_labels) # predicted classIDs\n",
    "print(test_labels) # UniqueIDs"
   ]
  },
  {
   "cell_type": "code",
   "execution_count": 23,
   "id": "f38db1cb",
   "metadata": {
    "execution": {
     "iopub.execute_input": "2024-03-01T03:42:32.242652Z",
     "iopub.status.busy": "2024-03-01T03:42:32.241441Z",
     "iopub.status.idle": "2024-03-01T03:42:32.294028Z",
     "shell.execute_reply": "2024-03-01T03:42:32.292601Z"
    },
    "papermill": {
     "duration": 0.677831,
     "end_time": "2024-03-01T03:42:32.297065",
     "exception": false,
     "start_time": "2024-03-01T03:42:31.619234",
     "status": "completed"
    },
    "tags": []
   },
   "outputs": [],
   "source": [
    "# Assuming test_labels contains unique IDs\n",
    "data = {'uniqueID': test_labels, 'classID': predicted_labels}\n",
    "result_df = pd.DataFrame(data)\n",
    "\n",
    "# Save DataFrame to CSV\n",
    "result_df.to_csv('/kaggle/working/predictions.csv', index=False)"
   ]
  },
  {
   "cell_type": "code",
   "execution_count": 24,
   "id": "df6f407d",
   "metadata": {
    "execution": {
     "iopub.execute_input": "2024-03-01T03:42:33.624662Z",
     "iopub.status.busy": "2024-03-01T03:42:33.624074Z",
     "iopub.status.idle": "2024-03-01T03:42:33.636966Z",
     "shell.execute_reply": "2024-03-01T03:42:33.635735Z"
    },
    "papermill": {
     "duration": 0.722127,
     "end_time": "2024-03-01T03:42:33.639608",
     "exception": false,
     "start_time": "2024-03-01T03:42:32.917481",
     "status": "completed"
    },
    "tags": []
   },
   "outputs": [
    {
     "data": {
      "text/html": [
       "<div>\n",
       "<style scoped>\n",
       "    .dataframe tbody tr th:only-of-type {\n",
       "        vertical-align: middle;\n",
       "    }\n",
       "\n",
       "    .dataframe tbody tr th {\n",
       "        vertical-align: top;\n",
       "    }\n",
       "\n",
       "    .dataframe thead th {\n",
       "        text-align: right;\n",
       "    }\n",
       "</style>\n",
       "<table border=\"1\" class=\"dataframe\">\n",
       "  <thead>\n",
       "    <tr style=\"text-align: right;\">\n",
       "      <th></th>\n",
       "      <th>uniqueID</th>\n",
       "      <th>classID</th>\n",
       "    </tr>\n",
       "  </thead>\n",
       "  <tbody>\n",
       "    <tr>\n",
       "      <th>0</th>\n",
       "      <td>1</td>\n",
       "      <td>1</td>\n",
       "    </tr>\n",
       "    <tr>\n",
       "      <th>1</th>\n",
       "      <td>9</td>\n",
       "      <td>7</td>\n",
       "    </tr>\n",
       "    <tr>\n",
       "      <th>2</th>\n",
       "      <td>10</td>\n",
       "      <td>4</td>\n",
       "    </tr>\n",
       "    <tr>\n",
       "      <th>3</th>\n",
       "      <td>14</td>\n",
       "      <td>1</td>\n",
       "    </tr>\n",
       "    <tr>\n",
       "      <th>4</th>\n",
       "      <td>16</td>\n",
       "      <td>6</td>\n",
       "    </tr>\n",
       "  </tbody>\n",
       "</table>\n",
       "</div>"
      ],
      "text/plain": [
       "   uniqueID  classID\n",
       "0         1        1\n",
       "1         9        7\n",
       "2        10        4\n",
       "3        14        1\n",
       "4        16        6"
      ]
     },
     "execution_count": 24,
     "metadata": {},
     "output_type": "execute_result"
    }
   ],
   "source": [
    "result_df.head()"
   ]
  },
  {
   "cell_type": "markdown",
   "id": "4b3e7ed5",
   "metadata": {
    "papermill": {
     "duration": 0.623526,
     "end_time": "2024-03-01T03:42:34.903151",
     "exception": false,
     "start_time": "2024-03-01T03:42:34.279625",
     "status": "completed"
    },
    "tags": []
   },
   "source": [
    "# Other Test Code"
   ]
  },
  {
   "cell_type": "code",
   "execution_count": 25,
   "id": "0f5a0246",
   "metadata": {
    "_cell_guid": "decb750e-cf74-40c1-bc46-6c1940119a1e",
    "_uuid": "dbb6db10-1590-4292-9449-dd4e1b5f5509",
    "collapsed": false,
    "execution": {
     "iopub.execute_input": "2024-03-01T03:42:36.216665Z",
     "iopub.status.busy": "2024-03-01T03:42:36.215792Z",
     "iopub.status.idle": "2024-03-01T03:42:36.229039Z",
     "shell.execute_reply": "2024-03-01T03:42:36.227409Z"
    },
    "jupyter": {
     "outputs_hidden": false
    },
    "papermill": {
     "duration": 0.634406,
     "end_time": "2024-03-01T03:42:36.231530",
     "exception": false,
     "start_time": "2024-03-01T03:42:35.597124",
     "status": "completed"
    },
    "tags": []
   },
   "outputs": [
    {
     "name": "stdout",
     "output_type": "stream",
     "text": [
      "num classes: 10\n"
     ]
    }
   ],
   "source": [
    "num_classes = len(y_train.unique())\n",
    "print(\"num classes: \" + str(num_classes))"
   ]
  },
  {
   "cell_type": "code",
   "execution_count": 26,
   "id": "7e10e190",
   "metadata": {
    "_cell_guid": "eb691b64-aa63-497e-81aa-e00ea5299a87",
    "_uuid": "d9b650d8-c502-47c2-bff4-c46106723d1d",
    "collapsed": false,
    "execution": {
     "iopub.execute_input": "2024-03-01T03:42:37.477421Z",
     "iopub.status.busy": "2024-03-01T03:42:37.476560Z",
     "iopub.status.idle": "2024-03-01T03:42:37.521909Z",
     "shell.execute_reply": "2024-03-01T03:42:37.520654Z"
    },
    "jupyter": {
     "outputs_hidden": false
    },
    "papermill": {
     "duration": 0.671526,
     "end_time": "2024-03-01T03:42:37.524808",
     "exception": false,
     "start_time": "2024-03-01T03:42:36.853282",
     "status": "completed"
    },
    "tags": []
   },
   "outputs": [],
   "source": [
    "# Concatenate image features with additional information\n",
    "combined = concatenate([x, additional_input])\n",
    "\n",
    "# Dense layers for classification\n",
    "x = Dense(64, activation='relu')(combined)\n",
    "output = Dense(num_classes, activation='softmax')(x) # softmax activation for multi-class classification, num_classes is the number of classes"
   ]
  },
  {
   "cell_type": "code",
   "execution_count": 27,
   "id": "78b84764",
   "metadata": {
    "_cell_guid": "42d59d09-4c80-42eb-b032-49e0be06a42c",
    "_uuid": "b091c44f-5429-4792-8ff8-2da1986bd180",
    "collapsed": false,
    "execution": {
     "iopub.execute_input": "2024-03-01T03:42:38.833824Z",
     "iopub.status.busy": "2024-03-01T03:42:38.833422Z",
     "iopub.status.idle": "2024-03-01T03:42:38.870769Z",
     "shell.execute_reply": "2024-03-01T03:42:38.869202Z"
    },
    "jupyter": {
     "outputs_hidden": false
    },
    "papermill": {
     "duration": 0.732119,
     "end_time": "2024-03-01T03:42:38.873684",
     "exception": false,
     "start_time": "2024-03-01T03:42:38.141565",
     "status": "completed"
    },
    "tags": []
   },
   "outputs": [],
   "source": [
    "from tensorflow.keras.metrics import AUC\n",
    "\n",
    "# Create the model\n",
    "model = Model(inputs=[image_input, additional_input], outputs=output)\n",
    "\n",
    "model.compile(optimizer='adam',\n",
    "              loss='sparse_categorical_crossentropy',  # Use sparse categorical crossentropy for integer labels\n",
    "              metrics=[AUC()])  # Use AUC as the evaluation metric"
   ]
  },
  {
   "cell_type": "code",
   "execution_count": 28,
   "id": "59a4eb29",
   "metadata": {
    "_cell_guid": "faf5f8f7-e5fc-4282-8036-a587c2053f48",
    "_uuid": "13be935d-aec9-4fcd-85d8-93c6bd1bb53c",
    "collapsed": false,
    "execution": {
     "iopub.execute_input": "2024-03-01T03:42:40.112611Z",
     "iopub.status.busy": "2024-03-01T03:42:40.111923Z",
     "iopub.status.idle": "2024-03-01T03:42:40.120264Z",
     "shell.execute_reply": "2024-03-01T03:42:40.118666Z"
    },
    "jupyter": {
     "outputs_hidden": false
    },
    "papermill": {
     "duration": 0.630707,
     "end_time": "2024-03-01T03:42:40.123031",
     "exception": false,
     "start_time": "2024-03-01T03:42:39.492324",
     "status": "completed"
    },
    "tags": []
   },
   "outputs": [
    {
     "name": "stdout",
     "output_type": "stream",
     "text": [
      "datatype of images: float64\n",
      "datatype of labels: [8 6 2 ... 6 4 1]\n",
      "\n",
      "all_img_info: [[2 'occluded-specimens' 'L' 'a1a8b48e8cb142b3.jpg']\n",
      " [3 'microscope-slides' 'L' '79599db2ac9092b6.jpg']\n",
      " [4 'illustrations-color' 'BHL' 'c449696f2f0d0d92.jpg']\n",
      " ...\n",
      " [122876 'microscope-slides' 'L' '78f6868694a6669c.jpg']\n",
      " [122877 'live-plants' 'E' '5c6162948949510a.jpg']\n",
      " [122879 'biocultural-specimens' 'C' '58583a38131331e8.jpg']]\n"
     ]
    }
   ],
   "source": [
    "print(\"datatype of images: \" + str(images.dtype))\n",
    "print(\"datatype of labels: \" + str(labels) + \"\\n\")\n",
    "print(\"all_img_info: \" + str(all_img_info))"
   ]
  },
  {
   "cell_type": "code",
   "execution_count": 29,
   "id": "35e29ff3",
   "metadata": {
    "_cell_guid": "03e8ed70-e9fe-4258-a34d-7f4af8ad2aca",
    "_uuid": "8d63eddf-ae2b-41f7-8650-96950c25990f",
    "collapsed": false,
    "execution": {
     "iopub.execute_input": "2024-03-01T03:42:41.453508Z",
     "iopub.status.busy": "2024-03-01T03:42:41.453046Z",
     "iopub.status.idle": "2024-03-01T03:42:41.465235Z",
     "shell.execute_reply": "2024-03-01T03:42:41.463696Z"
    },
    "jupyter": {
     "outputs_hidden": false
    },
    "papermill": {
     "duration": 0.724015,
     "end_time": "2024-03-01T03:42:41.467928",
     "exception": false,
     "start_time": "2024-03-01T03:42:40.743913",
     "status": "completed"
    },
    "tags": []
   },
   "outputs": [
    {
     "name": "stdout",
     "output_type": "stream",
     "text": [
      "(None, 32, 32, 3) <dtype: 'float32'>\n",
      "(None, 4) <dtype: 'float32'>\n",
      "\n",
      "\n",
      "(None, 10) <dtype: 'float32'>\n",
      "\n",
      "\n",
      "input_1 [(None, 32, 32, 3)] float32\n",
      "conv2d (None, 32, 32, 3) float32\n",
      "max_pooling2d (None, 30, 30, 32) float32\n",
      "conv2d_1 (None, 15, 15, 32) float32\n",
      "max_pooling2d_1 (None, 13, 13, 64) float32\n",
      "conv2d_2 (None, 6, 6, 64) float32\n",
      "flatten (None, 4, 4, 64) float32\n",
      "dense (None, 1024) float32\n",
      "input_2 [(None, 4)] float32\n",
      "concatenate [(None, 1024), (None, 4)] float32\n",
      "dense_2 (None, 1028) float32\n",
      "dense_3 (None, 64) float32\n"
     ]
    },
    {
     "data": {
      "text/plain": [
       "[None, None, None, None, None, None, None, None, None, None, None, None]"
      ]
     },
     "execution_count": 29,
     "metadata": {},
     "output_type": "execute_result"
    }
   ],
   "source": [
    "[print(i.shape, i.dtype) for i in model.inputs]\n",
    "print(\"\\n\")\n",
    "[print(o.shape, o.dtype) for o in model.outputs]\n",
    "print(\"\\n\")\n",
    "[print(l.name, l.input_shape, l.dtype) for l in model.layers]"
   ]
  },
  {
   "cell_type": "code",
   "execution_count": 30,
   "id": "239c9533",
   "metadata": {
    "_cell_guid": "14fb3577-4a13-4c50-816e-4599f6143ac3",
    "_uuid": "0f1395ac-d348-47c9-a1c2-6af6259de595",
    "collapsed": false,
    "execution": {
     "iopub.execute_input": "2024-03-01T03:42:42.704682Z",
     "iopub.status.busy": "2024-03-01T03:42:42.704213Z",
     "iopub.status.idle": "2024-03-01T03:42:42.711669Z",
     "shell.execute_reply": "2024-03-01T03:42:42.710369Z"
    },
    "jupyter": {
     "outputs_hidden": false
    },
    "papermill": {
     "duration": 0.632291,
     "end_time": "2024-03-01T03:42:42.713932",
     "exception": false,
     "start_time": "2024-03-01T03:42:42.081641",
     "status": "completed"
    },
    "tags": []
   },
   "outputs": [
    {
     "data": {
      "text/plain": [
       "dtype('float64')"
      ]
     },
     "execution_count": 30,
     "metadata": {},
     "output_type": "execute_result"
    }
   ],
   "source": [
    "images_np_arr = np.asarray(images)\n",
    "images_np_arr.dtype\n",
    "# maybe not"
   ]
  },
  {
   "cell_type": "code",
   "execution_count": 31,
   "id": "20428590",
   "metadata": {
    "_cell_guid": "33dba19f-82c9-46fa-9048-7de76a0bac2a",
    "_uuid": "a841fbfd-f115-40c7-98bb-3abd4b092925",
    "collapsed": false,
    "execution": {
     "iopub.execute_input": "2024-03-01T03:42:43.989503Z",
     "iopub.status.busy": "2024-03-01T03:42:43.987517Z",
     "iopub.status.idle": "2024-03-01T03:42:47.831527Z",
     "shell.execute_reply": "2024-03-01T03:42:47.829882Z"
    },
    "jupyter": {
     "outputs_hidden": false
    },
    "papermill": {
     "duration": 4.467654,
     "end_time": "2024-03-01T03:42:47.833866",
     "exception": true,
     "start_time": "2024-03-01T03:42:43.366212",
     "status": "failed"
    },
    "tags": []
   },
   "outputs": [
    {
     "ename": "ValueError",
     "evalue": "Failed to convert a NumPy array to a Tensor (Unsupported object type int).",
     "output_type": "error",
     "traceback": [
      "\u001b[0;31m---------------------------------------------------------------------------\u001b[0m",
      "\u001b[0;31mValueError\u001b[0m                                Traceback (most recent call last)",
      "Cell \u001b[0;32mIn[31], line 4\u001b[0m\n\u001b[1;32m      1\u001b[0m \u001b[38;5;28;01mfrom\u001b[39;00m \u001b[38;5;21;01mtensorflow\u001b[39;00m\u001b[38;5;21;01m.\u001b[39;00m\u001b[38;5;21;01mkeras\u001b[39;00m\u001b[38;5;21;01m.\u001b[39;00m\u001b[38;5;21;01mutils\u001b[39;00m \u001b[38;5;28;01mimport\u001b[39;00m to_categorical\n\u001b[1;32m      3\u001b[0m \u001b[38;5;66;03m# Train the model on the entire dataset\u001b[39;00m\n\u001b[0;32m----> 4\u001b[0m history \u001b[38;5;241m=\u001b[39m \u001b[43mmodel\u001b[49m\u001b[38;5;241;43m.\u001b[39;49m\u001b[43mfit\u001b[49m\u001b[43m(\u001b[49m\u001b[43m[\u001b[49m\u001b[43mimages\u001b[49m\u001b[43m,\u001b[49m\u001b[43m \u001b[49m\u001b[43mall_img_info\u001b[49m\u001b[43m]\u001b[49m\u001b[43m,\u001b[49m\u001b[43m \u001b[49m\u001b[43mlabels\u001b[49m\u001b[43m,\u001b[49m\u001b[43m \u001b[49m\u001b[43mepochs\u001b[49m\u001b[38;5;241;43m=\u001b[39;49m\u001b[38;5;241;43m10\u001b[39;49m\u001b[43m,\u001b[49m\u001b[43m \u001b[49m\u001b[43mvalidation_split\u001b[49m\u001b[38;5;241;43m=\u001b[39;49m\u001b[38;5;241;43m0.2\u001b[39;49m\u001b[43m)\u001b[49m\n",
      "File \u001b[0;32m/opt/conda/lib/python3.10/site-packages/keras/src/utils/traceback_utils.py:70\u001b[0m, in \u001b[0;36mfilter_traceback.<locals>.error_handler\u001b[0;34m(*args, **kwargs)\u001b[0m\n\u001b[1;32m     67\u001b[0m     filtered_tb \u001b[38;5;241m=\u001b[39m _process_traceback_frames(e\u001b[38;5;241m.\u001b[39m__traceback__)\n\u001b[1;32m     68\u001b[0m     \u001b[38;5;66;03m# To get the full stack trace, call:\u001b[39;00m\n\u001b[1;32m     69\u001b[0m     \u001b[38;5;66;03m# `tf.debugging.disable_traceback_filtering()`\u001b[39;00m\n\u001b[0;32m---> 70\u001b[0m     \u001b[38;5;28;01mraise\u001b[39;00m e\u001b[38;5;241m.\u001b[39mwith_traceback(filtered_tb) \u001b[38;5;28;01mfrom\u001b[39;00m \u001b[38;5;28;01mNone\u001b[39;00m\n\u001b[1;32m     71\u001b[0m \u001b[38;5;28;01mfinally\u001b[39;00m:\n\u001b[1;32m     72\u001b[0m     \u001b[38;5;28;01mdel\u001b[39;00m filtered_tb\n",
      "File \u001b[0;32m/opt/conda/lib/python3.10/site-packages/tensorflow/python/framework/constant_op.py:103\u001b[0m, in \u001b[0;36mconvert_to_eager_tensor\u001b[0;34m(value, ctx, dtype)\u001b[0m\n\u001b[1;32m    101\u001b[0m     dtype \u001b[38;5;241m=\u001b[39m dtypes\u001b[38;5;241m.\u001b[39mas_dtype(dtype)\u001b[38;5;241m.\u001b[39mas_datatype_enum\n\u001b[1;32m    102\u001b[0m ctx\u001b[38;5;241m.\u001b[39mensure_initialized()\n\u001b[0;32m--> 103\u001b[0m \u001b[38;5;28;01mreturn\u001b[39;00m \u001b[43mops\u001b[49m\u001b[38;5;241;43m.\u001b[39;49m\u001b[43mEagerTensor\u001b[49m\u001b[43m(\u001b[49m\u001b[43mvalue\u001b[49m\u001b[43m,\u001b[49m\u001b[43m \u001b[49m\u001b[43mctx\u001b[49m\u001b[38;5;241;43m.\u001b[39;49m\u001b[43mdevice_name\u001b[49m\u001b[43m,\u001b[49m\u001b[43m \u001b[49m\u001b[43mdtype\u001b[49m\u001b[43m)\u001b[49m\n",
      "\u001b[0;31mValueError\u001b[0m: Failed to convert a NumPy array to a Tensor (Unsupported object type int)."
     ]
    }
   ],
   "source": [
    "from tensorflow.keras.utils import to_categorical\n",
    "\n",
    "# Train the model on the entire dataset\n",
    "history = model.fit([images, all_img_info], labels, epochs=10, validation_split=0.2)"
   ]
  },
  {
   "cell_type": "code",
   "execution_count": null,
   "id": "cc45f6d1",
   "metadata": {
    "_cell_guid": "022fcec2-7292-450b-8857-3a9ea87da9c6",
    "_uuid": "7824d629-74dd-4830-85ea-0ab79a69719e",
    "collapsed": false,
    "execution": {
     "iopub.status.busy": "2024-02-29T23:34:48.525951Z",
     "iopub.status.idle": "2024-02-29T23:34:48.526430Z",
     "shell.execute_reply": "2024-02-29T23:34:48.526210Z",
     "shell.execute_reply.started": "2024-02-29T23:34:48.526187Z"
    },
    "jupyter": {
     "outputs_hidden": false
    },
    "papermill": {
     "duration": null,
     "end_time": null,
     "exception": null,
     "start_time": null,
     "status": "pending"
    },
    "tags": []
   },
   "outputs": [],
   "source": [
    "# do whole processing again for test data"
   ]
  },
  {
   "cell_type": "code",
   "execution_count": null,
   "id": "0fb6598f",
   "metadata": {
    "_cell_guid": "681b2c97-3954-4a16-b266-8c6cae24775f",
    "_uuid": "7747ba99-51cd-49da-ad79-5a27967ec72f",
    "collapsed": false,
    "execution": {
     "iopub.status.busy": "2024-02-29T23:34:48.527692Z",
     "iopub.status.idle": "2024-02-29T23:34:48.528115Z",
     "shell.execute_reply": "2024-02-29T23:34:48.527908Z",
     "shell.execute_reply.started": "2024-02-29T23:34:48.527893Z"
    },
    "jupyter": {
     "outputs_hidden": false
    },
    "papermill": {
     "duration": null,
     "end_time": null,
     "exception": null,
     "start_time": null,
     "status": "pending"
    },
    "tags": []
   },
   "outputs": [],
   "source": [
    "# Load test dataset\n",
    "test_df = pd.read_csv('/kaggle/input/bttai-nybg-2024/BTTAIxNYBG-test/BTTAIxNYBG-test.csv')\n",
    "\n",
    "# Function to preprocess test images\n",
    "def preprocess_test_images(df):\n",
    "    images = []\n",
    "    all_img_info = []\n",
    "    labels = []\n",
    "    for index, row in df.iterrows():\n",
    "        img_path = '/kaggle/input/bttai-nybg-2024/BTTAIxNYBG-test/BTTAIxNYBG-test/' + row['imageFile']\n",
    "        label = row['classID']\n",
    "        curr_img_info = row[X_cols].values\n",
    "        curr_img = cv2.imread(img_path)\n",
    "        curr_img = cv2.resize(curr_img, (32, 32))\n",
    "        curr_img = curr_img / 255.0\n",
    "        images.append(curr_img)\n",
    "        all_img_info.append(curr_img_info)\n",
    "        labels.append(label)\n",
    "    return np.array(images), np.array(all_img_info), np.array(labels)\n",
    "\n",
    "# Preprocess test images\n",
    "test_images, test_all_img_info, test_labels = preprocess_test_images(test_df)\n",
    "\n",
    "# Evaluate the model on the test dataset\n",
    "test_loss, test_accuracy = model.evaluate([test_images, test_all_img_info], test_labels)\n",
    "\n",
    "print(\"Test Loss:\", test_loss)\n",
    "print(\"Test Accuracy:\", test_accuracy)"
   ]
  },
  {
   "cell_type": "code",
   "execution_count": null,
   "id": "61a5d18b",
   "metadata": {
    "_cell_guid": "06e3eca4-f44d-49a7-b5fc-e84ed60d84ff",
    "_uuid": "88bf5f4b-44bf-442d-9815-e8bc5cbad203",
    "collapsed": false,
    "execution": {
     "iopub.status.busy": "2024-02-29T23:34:48.530079Z",
     "iopub.status.idle": "2024-02-29T23:34:48.530539Z",
     "shell.execute_reply": "2024-02-29T23:34:48.530355Z",
     "shell.execute_reply.started": "2024-02-29T23:34:48.530338Z"
    },
    "jupyter": {
     "outputs_hidden": false
    },
    "papermill": {
     "duration": null,
     "end_time": null,
     "exception": null,
     "start_time": null,
     "status": "pending"
    },
    "tags": []
   },
   "outputs": [],
   "source": [
    "# import cv2\n",
    "# import numpy as np\n",
    "# import os\n",
    "\n",
    "# # Define the directory containing your images\n",
    "# image_dir = '/kaggle/input/bttai-nybg-2024/BTTAIxNYBG-train/BTTAIxNYBG-train'\n",
    "\n",
    "# # Function to load and preprocess images\n",
    "# def load_images(image_dir):\n",
    "#     images = []\n",
    "#     labels = []\n",
    "#     for label in os.listdir(image_dir):\n",
    "#         label_path = os.path.join(image_dir, label)\n",
    "#         for image_file in os.listdir(label_path):\n",
    "#             image_path = os.path.join(label_path, image_file)\n",
    "#             image = cv2.imread(image_path)\n",
    "#             image = cv2.resize(image, (32, 32))  # Resize the image if necessary\n",
    "#             image = image / 255.0  # Normalize the pixel values\n",
    "#             images.append(image)\n",
    "#             labels.append(int(label))  # Assuming each subdirectory is a class label\n",
    "#     return np.array(images), np.array(labels)\n",
    "\n",
    "# # Load and preprocess images\n",
    "# images, labels = load_images(image_dir)"
   ]
  },
  {
   "cell_type": "code",
   "execution_count": null,
   "id": "1fead9b1",
   "metadata": {
    "_cell_guid": "5b43ac17-80f7-47e6-8846-8bfae6762233",
    "_uuid": "05a1e809-6e2e-4e4f-94a2-fecadafa0a87",
    "collapsed": false,
    "execution": {
     "iopub.status.busy": "2024-02-29T23:34:48.531467Z",
     "iopub.status.idle": "2024-02-29T23:34:48.532340Z",
     "shell.execute_reply": "2024-02-29T23:34:48.532034Z",
     "shell.execute_reply.started": "2024-02-29T23:34:48.532014Z"
    },
    "jupyter": {
     "outputs_hidden": false
    },
    "papermill": {
     "duration": null,
     "end_time": null,
     "exception": null,
     "start_time": null,
     "status": "pending"
    },
    "tags": []
   },
   "outputs": [],
   "source": [
    "# import tensorflow as tf\n",
    "# from tensorflow.keras import datasets, layers, models\n",
    "# import matplotlib.pyplot as plt\n",
    "\n",
    "# # Load and prepare the CIFAR10 dataset\n",
    "# # (train_images, train_labels), (test_images, test_labels) = datasets.cifar10.load_data()\n",
    "\n",
    "# # Normalize pixel values to be between 0 and 1\n",
    "# train_images, test_images = train_images / 255.0, test_images / 255.0\n",
    "\n",
    "\n",
    "# train_images"
   ]
  },
  {
   "cell_type": "code",
   "execution_count": null,
   "id": "06f70722",
   "metadata": {
    "_cell_guid": "7516e640-59e3-4dcf-b183-0a441eb95368",
    "_uuid": "039d3514-f936-4f71-a9bb-efa29b6df1f5",
    "collapsed": false,
    "execution": {
     "iopub.status.busy": "2024-02-29T23:34:48.533821Z",
     "iopub.status.idle": "2024-02-29T23:34:48.534216Z",
     "shell.execute_reply": "2024-02-29T23:34:48.534026Z",
     "shell.execute_reply.started": "2024-02-29T23:34:48.534003Z"
    },
    "jupyter": {
     "outputs_hidden": false
    },
    "papermill": {
     "duration": null,
     "end_time": null,
     "exception": null,
     "start_time": null,
     "status": "pending"
    },
    "tags": []
   },
   "outputs": [],
   "source": [
    "# path = '/kaggle/input/bttai-nybg-2024/BTTAIxNYBG-train/BTTAIxNYBG-train'\n",
    "# #img_path = '/kaggle/input/bttai-nybg-2024/BTTAIxNYBG-train/BTTAIxNYBG-train/0000000000010109.jpg'\n",
    "\n",
    "# train_img_files = tf.data.Dataset.list_files(path)\n",
    "\n",
    "# def load_images(path):\n",
    "#     image = tf.io.read_file(path)\n",
    "#     image = tf.io.decode_jpeg(image)\n",
    "#     image = tf.image.convert_image_dtype(image, tf.float32)\n",
    "#     image = tf.image.resize(image, (128, 128))\n",
    "\n",
    "#     parts = tf.strings.split(path, os.path.sep)\n",
    "#     bool_values = tf.equal(parts[-2], 'strokes')\n",
    "#     indices = tf.cast(bool_values, tf.int32)\n",
    "#     return image, indices\n",
    "\n",
    "# ds = train_img_files.map(load_images).batch(1)"
   ]
  },
  {
   "cell_type": "code",
   "execution_count": null,
   "id": "f78aba95",
   "metadata": {
    "_cell_guid": "68a1e107-9806-4877-923d-42ac9f370376",
    "_uuid": "72213c71-1f3e-4401-8666-751fdf5ba6e0",
    "collapsed": false,
    "execution": {
     "iopub.status.busy": "2024-02-29T23:34:48.535677Z",
     "iopub.status.idle": "2024-02-29T23:34:48.536238Z",
     "shell.execute_reply": "2024-02-29T23:34:48.535974Z",
     "shell.execute_reply.started": "2024-02-29T23:34:48.535951Z"
    },
    "jupyter": {
     "outputs_hidden": false
    },
    "papermill": {
     "duration": null,
     "end_time": null,
     "exception": null,
     "start_time": null,
     "status": "pending"
    },
    "tags": []
   },
   "outputs": [],
   "source": [
    "# ds"
   ]
  },
  {
   "cell_type": "code",
   "execution_count": null,
   "id": "e464f686",
   "metadata": {
    "_cell_guid": "5d0acb45-c2e3-4ab0-8de1-a738431c340c",
    "_uuid": "09a9ccee-9f6b-4fd0-ae99-7c84b92333bc",
    "collapsed": false,
    "execution": {
     "iopub.status.busy": "2024-02-29T23:34:48.541872Z",
     "iopub.status.idle": "2024-02-29T23:34:48.542439Z",
     "shell.execute_reply": "2024-02-29T23:34:48.542184Z",
     "shell.execute_reply.started": "2024-02-29T23:34:48.542161Z"
    },
    "jupyter": {
     "outputs_hidden": false
    },
    "papermill": {
     "duration": null,
     "end_time": null,
     "exception": null,
     "start_time": null,
     "status": "pending"
    },
    "tags": []
   },
   "outputs": [],
   "source": [
    "# ds.take(1)"
   ]
  },
  {
   "cell_type": "code",
   "execution_count": null,
   "id": "d990ff03",
   "metadata": {
    "_cell_guid": "4df7c2cb-baf5-4fa8-98d2-6e86654d9716",
    "_uuid": "8b9743ca-8ba1-4e80-9187-080b58469405",
    "collapsed": false,
    "execution": {
     "iopub.status.busy": "2024-02-29T23:34:48.543977Z",
     "iopub.status.idle": "2024-02-29T23:34:48.544514Z",
     "shell.execute_reply": "2024-02-29T23:34:48.544264Z",
     "shell.execute_reply.started": "2024-02-29T23:34:48.544241Z"
    },
    "jupyter": {
     "outputs_hidden": false
    },
    "papermill": {
     "duration": null,
     "end_time": null,
     "exception": null,
     "start_time": null,
     "status": "pending"
    },
    "tags": []
   },
   "outputs": [],
   "source": [
    "# for images, labels in ds.take(1):\n",
    "#     for i in range(32):\n",
    "#         ax = plt.subplot(6, 6, i + 1)\n",
    "#         plt.imshow(images[i].numpy().astype(\"uint8\"))\n",
    "#         plt.title(y_train[i])\n",
    "#         plt.axis(\"off\")"
   ]
  },
  {
   "cell_type": "code",
   "execution_count": null,
   "id": "c26dd68a",
   "metadata": {
    "_cell_guid": "f8780346-a710-4365-8a67-16f89b135b9a",
    "_uuid": "79e4ff6f-13a2-4425-9981-75d61c2a5400",
    "collapsed": false,
    "execution": {
     "iopub.status.busy": "2024-02-29T23:34:48.545931Z",
     "iopub.status.idle": "2024-02-29T23:34:48.546500Z",
     "shell.execute_reply": "2024-02-29T23:34:48.546243Z",
     "shell.execute_reply.started": "2024-02-29T23:34:48.546206Z"
    },
    "jupyter": {
     "outputs_hidden": false
    },
    "papermill": {
     "duration": null,
     "end_time": null,
     "exception": null,
     "start_time": null,
     "status": "pending"
    },
    "tags": []
   },
   "outputs": [],
   "source": [
    "# plt.imshow(ds[0].numpy().astype(\"uint8\"))"
   ]
  },
  {
   "cell_type": "code",
   "execution_count": null,
   "id": "1911542f",
   "metadata": {
    "_cell_guid": "029b07b3-7ccb-4d6a-bd18-50b7309fa9c7",
    "_uuid": "1219de07-5146-424e-b14e-662cc55b72e0",
    "collapsed": false,
    "execution": {
     "iopub.status.busy": "2024-02-29T23:34:48.548083Z",
     "iopub.status.idle": "2024-02-29T23:34:48.548628Z",
     "shell.execute_reply": "2024-02-29T23:34:48.548369Z",
     "shell.execute_reply.started": "2024-02-29T23:34:48.548343Z"
    },
    "jupyter": {
     "outputs_hidden": false
    },
    "papermill": {
     "duration": null,
     "end_time": null,
     "exception": null,
     "start_time": null,
     "status": "pending"
    },
    "tags": []
   },
   "outputs": [],
   "source": [
    "# # the data, split between train and test sets\n",
    "# #(x_train, y_train), (x_test, y_test) = ds\n",
    "\n",
    "# (x_train, y_train) = ds\n",
    "\n",
    "# x_train"
   ]
  },
  {
   "cell_type": "code",
   "execution_count": null,
   "id": "bd894be1",
   "metadata": {
    "_cell_guid": "4bcc743b-9f22-4fce-bfa6-e997970d61fb",
    "_uuid": "47bdfad1-eae5-4de6-a968-d30662414493",
    "collapsed": false,
    "execution": {
     "iopub.status.busy": "2024-02-29T23:34:48.550513Z",
     "iopub.status.idle": "2024-02-29T23:34:48.551084Z",
     "shell.execute_reply": "2024-02-29T23:34:48.550814Z",
     "shell.execute_reply.started": "2024-02-29T23:34:48.550791Z"
    },
    "jupyter": {
     "outputs_hidden": false
    },
    "papermill": {
     "duration": null,
     "end_time": null,
     "exception": null,
     "start_time": null,
     "status": "pending"
    },
    "tags": []
   },
   "outputs": [],
   "source": [
    "# # Define the CNN architecture\n",
    "# model = models.Sequential()\n",
    "# model.add(layers.Conv2D(32, (3, 3), activation='relu', input_shape=(32, 32, 3)))\n",
    "# model.add(layers.MaxPooling2D((2, 2)))\n",
    "# model.add(layers.Conv2D(64, (3, 3), activation='relu'))\n",
    "# model.add(layers.MaxPooling2D((2, 2)))\n",
    "# model.add(layers.Conv2D(64, (3, 3), activation='relu'))"
   ]
  },
  {
   "cell_type": "code",
   "execution_count": null,
   "id": "bdd0a71f",
   "metadata": {
    "_cell_guid": "ed4792c0-d5d5-417b-b85e-bdfdddd1c9ee",
    "_uuid": "89f783fd-8ab9-44c9-8743-61ba721c2aa1",
    "collapsed": false,
    "execution": {
     "iopub.status.busy": "2024-02-29T23:34:48.552991Z",
     "iopub.status.idle": "2024-02-29T23:34:48.553531Z",
     "shell.execute_reply": "2024-02-29T23:34:48.553274Z",
     "shell.execute_reply.started": "2024-02-29T23:34:48.553252Z"
    },
    "jupyter": {
     "outputs_hidden": false
    },
    "papermill": {
     "duration": null,
     "end_time": null,
     "exception": null,
     "start_time": null,
     "status": "pending"
    },
    "tags": []
   },
   "outputs": [],
   "source": [
    "# # Add Dense layers on top\n",
    "# model.add(layers.Flatten())\n",
    "# model.add(layers.Dense(64, activation='relu'))\n",
    "# model.add(layers.Dense(10))"
   ]
  },
  {
   "cell_type": "code",
   "execution_count": null,
   "id": "8ee5d3fc",
   "metadata": {
    "_cell_guid": "cb0705f3-4da2-4d99-92c7-4315dae73a0b",
    "_uuid": "7ba474a8-2f5e-45a1-a45e-887145aade72",
    "collapsed": false,
    "execution": {
     "iopub.status.busy": "2024-02-29T23:34:48.555884Z",
     "iopub.status.idle": "2024-02-29T23:34:48.556832Z",
     "shell.execute_reply": "2024-02-29T23:34:48.556479Z",
     "shell.execute_reply.started": "2024-02-29T23:34:48.556232Z"
    },
    "jupyter": {
     "outputs_hidden": false
    },
    "papermill": {
     "duration": null,
     "end_time": null,
     "exception": null,
     "start_time": null,
     "status": "pending"
    },
    "tags": []
   },
   "outputs": [],
   "source": [
    "# # Compile and train the model\n",
    "# model.compile(optimizer='adam',\n",
    "#               loss=tf.keras.losses.SparseCategoricalCrossentropy(from_logits=True),\n",
    "#               metrics=['accuracy'])\n",
    "\n",
    "# history = model.fit(train_images, train_labels, epochs=10, \n",
    "#                     validation_data=(test_images, test_labels))"
   ]
  },
  {
   "cell_type": "code",
   "execution_count": null,
   "id": "d2b87eb7",
   "metadata": {
    "_cell_guid": "f30b90c5-54f2-4c4c-b60b-de788fdf3579",
    "_uuid": "2b3c0b63-26d4-43fa-85ae-38e4612a50bd",
    "collapsed": false,
    "execution": {
     "iopub.status.busy": "2024-02-29T23:34:48.562129Z",
     "iopub.status.idle": "2024-02-29T23:34:48.563353Z",
     "shell.execute_reply": "2024-02-29T23:34:48.563006Z",
     "shell.execute_reply.started": "2024-02-29T23:34:48.562972Z"
    },
    "jupyter": {
     "outputs_hidden": false
    },
    "papermill": {
     "duration": null,
     "end_time": null,
     "exception": null,
     "start_time": null,
     "status": "pending"
    },
    "tags": []
   },
   "outputs": [],
   "source": [
    "# # Evaluate the model\n",
    "# test_loss, test_acc = model.evaluate(test_images,  test_labels, verbose=2)\n",
    "# print(test_acc)"
   ]
  },
  {
   "cell_type": "code",
   "execution_count": null,
   "id": "f3d69cf4",
   "metadata": {
    "_cell_guid": "8f7a9ba4-6af8-4613-afbd-62703e559bb4",
    "_uuid": "1d47fb93-3845-496d-aabc-5b71da6967a8",
    "collapsed": false,
    "execution": {
     "iopub.status.busy": "2024-02-29T23:34:48.564436Z",
     "iopub.status.idle": "2024-02-29T23:34:48.564954Z",
     "shell.execute_reply": "2024-02-29T23:34:48.564742Z",
     "shell.execute_reply.started": "2024-02-29T23:34:48.564723Z"
    },
    "jupyter": {
     "outputs_hidden": false
    },
    "papermill": {
     "duration": null,
     "end_time": null,
     "exception": null,
     "start_time": null,
     "status": "pending"
    },
    "tags": []
   },
   "outputs": [],
   "source": [
    "# fastai - cnn learner"
   ]
  }
 ],
 "metadata": {
  "kaggle": {
   "accelerator": "none",
   "dataSources": [
    {
     "databundleVersionId": 7522884,
     "sourceId": 66199,
     "sourceType": "competition"
    }
   ],
   "dockerImageVersionId": 30646,
   "isGpuEnabled": false,
   "isInternetEnabled": true,
   "language": "python",
   "sourceType": "notebook"
  },
  "kernelspec": {
   "display_name": "Python 3",
   "language": "python",
   "name": "python3"
  },
  "language_info": {
   "codemirror_mode": {
    "name": "ipython",
    "version": 3
   },
   "file_extension": ".py",
   "mimetype": "text/x-python",
   "name": "python",
   "nbconvert_exporter": "python",
   "pygments_lexer": "ipython3",
   "version": "3.10.13"
  },
  "papermill": {
   "default_parameters": {},
   "duration": 3185.239893,
   "end_time": "2024-03-01T03:42:50.964766",
   "environment_variables": {},
   "exception": true,
   "input_path": "__notebook__.ipynb",
   "output_path": "__notebook__.ipynb",
   "parameters": {},
   "start_time": "2024-03-01T02:49:45.724873",
   "version": "2.5.0"
  }
 },
 "nbformat": 4,
 "nbformat_minor": 5
}
